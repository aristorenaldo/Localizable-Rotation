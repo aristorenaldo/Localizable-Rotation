{
 "cells": [
  {
   "cell_type": "code",
   "execution_count": 1,
   "metadata": {},
   "outputs": [
    {
     "name": "stdout",
     "output_type": "stream",
     "text": [
      "cifar_train_lorot-E.py:167: UserWarning: You have chosen a specific GPU. This will completely disable data parallelism.\n",
      "  warnings.warn(\n",
      "Use GPU: 0 for training\n",
      "=> creating model 'resnet32'\n",
      "num_trans : 16\n",
      "Files already downloaded and verified\n",
      "Files already downloaded and verified\n",
      "cls num list:\n",
      "[5000, 2997, 1796, 1077, 645, 387, 232, 139, 83, 50]\n",
      "idx2 : \n",
      "tensor([1, 1, 1, 2, 2, 0, 2, 0, 2, 2, 1, 0, 2, 0, 2, 2, 1, 3, 1, 2, 2, 1, 0, 2,\n",
      "        0, 3, 2, 0, 1, 2, 3, 3, 3, 1, 3, 0, 1, 1, 1, 2, 3, 3, 1, 3, 2, 0, 3, 1,\n",
      "        2, 1, 1, 1, 2, 0, 3, 3, 2, 3, 1, 2, 1, 2, 0, 0, 1, 2, 0, 3, 0, 3, 3, 1,\n",
      "        2, 1, 2, 2, 1, 1, 3, 0, 0, 0, 3, 1, 1, 0, 2, 1, 2, 2, 2, 1, 0, 0, 0, 3,\n",
      "        2, 0, 1, 2, 0, 2, 1, 2, 0, 3, 0, 2, 0, 0, 0, 0, 1, 0, 3, 1, 3, 3, 1, 0,\n",
      "        3, 2, 3, 2, 1, 2, 2, 0])\n",
      "idx2 Shape :\n",
      "torch.Size([128])\n",
      "======================================================================\n",
      "idx : \n",
      "tensor([0, 0, 3, 0, 2, 0, 2, 2, 3, 1, 3, 3, 2, 1, 0, 2, 1, 2, 3, 2, 1, 1, 2, 0,\n",
      "        1, 2, 3, 1, 3, 2, 1, 1, 2, 3, 2, 2, 3, 3, 3, 0, 3, 0, 1, 2, 3, 3, 0, 1,\n",
      "        2, 0, 2, 2, 3, 2, 3, 0, 1, 2, 0, 3, 3, 0, 3, 1, 3, 2, 3, 2, 0, 3, 2, 0,\n",
      "        1, 1, 2, 3, 3, 2, 1, 3, 3, 1, 3, 2, 3, 3, 1, 1, 2, 2, 2, 0, 2, 3, 1, 2,\n",
      "        3, 3, 3, 1, 2, 0, 2, 3, 3, 0, 3, 3, 2, 3, 0, 2, 3, 3, 3, 2, 1, 1, 2, 3,\n",
      "        2, 3, 3, 3, 3, 2, 0, 1])\n",
      "idx Shape :\n",
      "torch.Size([128])\n",
      "======================================================================\n",
      "rot label:\n",
      "tensor([ 1,  1, 13,  2, 10,  0, 10,  8, 14,  6, 13, 12, 10,  4,  2, 10,  5, 11,\n",
      "        13, 10,  6,  5,  8,  2,  4, 11, 14,  4, 13, 10,  7,  7, 11, 13, 11,  8,\n",
      "        13, 13, 13,  2, 15,  3,  5, 11, 14, 12,  3,  5, 10,  1,  9,  9, 14,  8,\n",
      "        15,  3,  6, 11,  1, 14, 13,  2, 12,  4, 13, 10, 12, 11,  0, 15, 11,  1,\n",
      "         6,  5, 10, 14, 13,  9,  7, 12, 12,  4, 15,  9, 13, 12,  6,  5, 10, 10,\n",
      "        10,  1,  8, 12,  4, 11, 14, 12, 13,  6,  8,  2,  9, 14, 12,  3, 12, 14,\n",
      "         8, 12,  0,  8, 13, 12, 15,  9,  7,  7,  9, 12, 11, 14, 15, 14, 13, 10,\n",
      "         2,  4])\n",
      "======================================================================\n",
      "output:\n",
      "torch.Size([128, 10])\n",
      "rotoutput:\n",
      "torch.Size([128, 16])\n",
      "Epoch: [0][0/97], lr: 0.00200\tTime 3.614 (3.614)\tData 0.374 (0.374)\tLoss 3.2100 (3.2100)\tPrec@1 22.656 (22.656)\tPrec@5 72.656 (72.656)\n",
      "Test: [0/100]\tTime 0.559 (0.559)\tLoss 124.2990 (124.2990)\tPrec@1 6.000 (6.000)\tPrec@5 44.000 (44.000)\n",
      "Test: [10/100]\tTime 0.072 (0.117)\tLoss 116.7357 (124.2110)\tPrec@1 11.000 (9.455)\tPrec@5 48.000 (49.364)\n",
      "Test: [20/100]\tTime 0.072 (0.095)\tLoss 119.9775 (124.7623)\tPrec@1 9.000 (9.762)\tPrec@5 50.000 (50.143)\n",
      "Test: [30/100]\tTime 0.072 (0.088)\tLoss 115.0494 (124.8243)\tPrec@1 14.000 (9.903)\tPrec@5 47.000 (50.613)\n",
      "Test: [40/100]\tTime 0.072 (0.084)\tLoss 124.9333 (125.8402)\tPrec@1 7.000 (9.951)\tPrec@5 49.000 (49.732)\n",
      "Test: [50/100]\tTime 0.072 (0.082)\tLoss 131.1674 (125.6849)\tPrec@1 11.000 (10.176)\tPrec@5 45.000 (49.667)\n",
      "Test: [60/100]\tTime 0.072 (0.080)\tLoss 113.8268 (126.0765)\tPrec@1 7.000 (10.016)\tPrec@5 53.000 (49.213)\n",
      "Test: [70/100]\tTime 0.072 (0.079)\tLoss 118.5683 (125.5656)\tPrec@1 13.000 (10.056)\tPrec@5 49.000 (49.366)\n",
      "Test: [80/100]\tTime 0.072 (0.078)\tLoss 117.1076 (124.9461)\tPrec@1 14.000 (10.123)\tPrec@5 52.000 (49.494)\n",
      "Test: [90/100]\tTime 0.072 (0.078)\tLoss 123.5168 (124.7155)\tPrec@1 7.000 (10.055)\tPrec@5 53.000 (49.352)\n",
      "val Results: Prec@1 10.050 Prec@5 49.260 Loss 124.76203\n",
      "val Class Accuracy: [0.088,0.917,0.000,0.000,0.000,0.000,0.000,0.000,0.000,0.000]\n",
      "Best Prec@1: 10.050\n",
      "\n"
     ]
    }
   ],
   "source": [
    "!python3 cifar_train_lorot-E.py --exp_str testingoutput --workers 8 --epochs 1 --gpu 0"
   ]
  },
  {
   "cell_type": "code",
   "execution_count": 1,
   "metadata": {},
   "outputs": [],
   "source": [
    "import models"
   ]
  },
  {
   "cell_type": "code",
   "execution_count": null,
   "metadata": {},
   "outputs": [],
   "source": [
    "model = models._dict_['resnet32']()"
   ]
  }
 ],
 "metadata": {
  "kernelspec": {
   "display_name": "Python 3.8.13 ('pytorch-test')",
   "language": "python",
   "name": "python3"
  },
  "language_info": {
   "codemirror_mode": {
    "name": "ipython",
    "version": 3
   },
   "file_extension": ".py",
   "mimetype": "text/x-python",
   "name": "python",
   "nbconvert_exporter": "python",
   "pygments_lexer": "ipython3",
   "version": "3.8.13"
  },
  "orig_nbformat": 4,
  "vscode": {
   "interpreter": {
    "hash": "de4dfb183386e61860a9b4c6b4eb26dd8bb24671ff46a37707bad9f54278c866"
   }
  }
 },
 "nbformat": 4,
 "nbformat_minor": 2
}
