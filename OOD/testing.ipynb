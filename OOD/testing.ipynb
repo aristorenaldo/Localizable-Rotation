{
 "cells": [
  {
   "cell_type": "code",
   "execution_count": 4,
   "metadata": {},
   "outputs": [
    {
     "name": "stdout",
     "output_type": "stream",
     "text": [
      "Using downloaded and verified file: ./data/cifar10/svhn/train_32x32.mat\n",
      "Using downloaded and verified file: ./data/cifar10/svhn/test_32x32.mat\n",
      "Files already downloaded and verified\n",
      "Files already downloaded and verified\n",
      "Using downloaded and verified file: ./datasets/data/test_32x32.mat\n",
      "Using downloaded and verified file: ./datasets/data/cifar-100-python.tar.gz\n",
      "Extracting ./datasets/data/cifar-100-python.tar.gz to ./datasets/data/\n",
      "Files already downloaded and verified\n",
      "^Cfar10: | Epoch [  0/100] loss_x: 2.11, lr_loss: 2.825\n"
     ]
    }
   ],
   "source": [
    "!python ood_lorot-E.py"
   ]
  }
 ],
 "metadata": {
  "kernelspec": {
   "display_name": "Python 3.8.13 ('pytorch-test')",
   "language": "python",
   "name": "python3"
  },
  "language_info": {
   "codemirror_mode": {
    "name": "ipython",
    "version": 3
   },
   "file_extension": ".py",
   "mimetype": "text/x-python",
   "name": "python",
   "nbconvert_exporter": "python",
   "pygments_lexer": "ipython3",
   "version": "3.8.13"
  },
  "orig_nbformat": 4,
  "vscode": {
   "interpreter": {
    "hash": "de4dfb183386e61860a9b4c6b4eb26dd8bb24671ff46a37707bad9f54278c866"
   }
  }
 },
 "nbformat": 4,
 "nbformat_minor": 2
}
