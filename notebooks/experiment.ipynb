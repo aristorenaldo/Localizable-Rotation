{
 "cells": [
  {
   "cell_type": "code",
   "execution_count": 2,
   "metadata": {},
   "outputs": [],
   "source": [
    "import torch\n",
    "import torchvision\n",
    "from PIL import Image\n",
    "from pathlib import Path\n"
   ]
  },
  {
   "cell_type": "code",
   "execution_count": 28,
   "metadata": {},
   "outputs": [
    {
     "data": {
      "text/plain": [
       "tensor([[[0.6588, 0.6824, 0.6980,  ..., 0.6392, 0.6392, 0.6314],\n",
       "         [0.6588, 0.6549, 0.6353,  ..., 0.6353, 0.6275, 0.6118],\n",
       "         [0.6118, 0.5765, 0.5098,  ..., 0.6353, 0.6196, 0.5922],\n",
       "         ...,\n",
       "         [0.3098, 0.3137, 0.3529,  ..., 0.2863, 0.2784, 0.2627],\n",
       "         [0.2745, 0.2941, 0.3098,  ..., 0.2824, 0.2667, 0.2353],\n",
       "         [0.2902, 0.2824, 0.2667,  ..., 0.2902, 0.3020, 0.2824]],\n",
       "\n",
       "        [[0.7059, 0.7294, 0.7490,  ..., 0.6980, 0.6980, 0.6902],\n",
       "         [0.7137, 0.7098, 0.6863,  ..., 0.7020, 0.6941, 0.6784],\n",
       "         [0.6745, 0.6392, 0.5725,  ..., 0.7098, 0.6941, 0.6667],\n",
       "         ...,\n",
       "         [0.3255, 0.3294, 0.3686,  ..., 0.2863, 0.2784, 0.2549],\n",
       "         [0.2784, 0.2980, 0.3137,  ..., 0.3020, 0.2824, 0.2510],\n",
       "         [0.2902, 0.2824, 0.2745,  ..., 0.3255, 0.3216, 0.3020]],\n",
       "\n",
       "        [[0.7529, 0.7843, 0.8118,  ..., 0.8118, 0.8118, 0.8039],\n",
       "         [0.7647, 0.7608, 0.7529,  ..., 0.8196, 0.8118, 0.7961],\n",
       "         [0.7333, 0.6980, 0.6353,  ..., 0.8353, 0.8196, 0.7922],\n",
       "         ...,\n",
       "         [0.3373, 0.3412, 0.3804,  ..., 0.2941, 0.2863, 0.2667],\n",
       "         [0.2863, 0.3059, 0.3216,  ..., 0.3176, 0.2941, 0.2627],\n",
       "         [0.2902, 0.2824, 0.2706,  ..., 0.3451, 0.3373, 0.3176]]])"
      ]
     },
     "execution_count": 28,
     "metadata": {},
     "output_type": "execute_result"
    }
   ],
   "source": [
    "input_image = torchvision.transforms.ToTensor()(Image.open(Path.cwd().parent / \"figures\" /\"Examples\" / \"0000.jpg\"))\n",
    "input_image"
   ]
  },
  {
   "cell_type": "code",
   "execution_count": 29,
   "metadata": {},
   "outputs": [],
   "source": [
    "input_image = input_image[None]"
   ]
  },
  {
   "cell_type": "code",
   "execution_count": 30,
   "metadata": {},
   "outputs": [],
   "source": [
    "\n",
    "idx = torch.randint(4, size=(input_image.size(0),))\n",
    "idx2 = torch.randint(4, size=(input_image.size(0),))\n",
    "r = input_image.size(2) // 2\n",
    "r2 = input_image.size(2)\n",
    "for i in range(input_image.size(0)):\n",
    "    if idx[i] == 0:\n",
    "        w1 = 0\n",
    "        w2 = r\n",
    "        h1 = 0\n",
    "        h2 = r\n",
    "    elif idx[i] == 1:\n",
    "        w1 = 0\n",
    "        w2 = r\n",
    "        h1 = r\n",
    "        h2 = r2\n",
    "    elif idx[i] == 2:\n",
    "        w1 = r\n",
    "        w2 = r2\n",
    "        h1 = 0\n",
    "        h2 = r\n",
    "    elif idx[i] == 3:\n",
    "        w1 = r\n",
    "        w2 = r2\n",
    "        h1 = r\n",
    "        h2 = r2\n",
    "    input_image[i][:, w1:w2, h1:h2] = torch.fliplr(\n",
    "        input_image[i][:, w1:w2, h1:h2]\n",
    "    )"
   ]
  },
  {
   "cell_type": "code",
   "execution_count": 41,
   "metadata": {},
   "outputs": [
    {
     "data": {
      "text/plain": [
       "'torch.LongTensor'"
      ]
     },
     "execution_count": 41,
     "metadata": {},
     "output_type": "execute_result"
    }
   ],
   "source": [
    "torch.randint(4, size=(input_image.size(0),)).type()"
   ]
  },
  {
   "cell_type": "code",
   "execution_count": 44,
   "metadata": {},
   "outputs": [
    {
     "data": {
      "text/plain": [
       "tensor([5, 5, 5, 5, 5, 5, 5, 5, 5, 5])"
      ]
     },
     "execution_count": 44,
     "metadata": {},
     "output_type": "execute_result"
    }
   ],
   "source": [
    "(torch.ones(size=(10,)) * 5).to(torch.int64)"
   ]
  },
  {
   "cell_type": "code",
   "execution_count": 31,
   "metadata": {},
   "outputs": [
    {
     "data": {
      "image/png": "[encoded data removed]",
      "text/plain": [
       "<PIL.Image.Image image mode=RGB size=32x32>"
      ]
     },
     "execution_count": 31,
     "metadata": {},
     "output_type": "execute_result"
    }
   ],
   "source": [
    "torchvision.transforms.ToPILImage()(input_image[0])"
   ]
  }
 ],
 "metadata": {
  "kernelspec": {
   "display_name": "Python 3.8.10 ('venv': venv)",
   "language": "python",
   "name": "python3"
  },
  "language_info": {
   "codemirror_mode": {
    "name": "ipython",
    "version": 3
   },
   "file_extension": ".py",
   "mimetype": "text/x-python",
   "name": "python",
   "nbconvert_exporter": "python",
   "pygments_lexer": "ipython3",
   "version": "3.8.10"
  },
  "orig_nbformat": 4,
  "vscode": {
   "interpreter": {
    "hash": "57b332617b25c085b969f15dfde84a2f8e48d7e8f93d25a10fa0e3d2a5af3459"
   }
  }
 },
 "nbformat": 4,
 "nbformat_minor": 2
}
